{
 "cells": [
  {
   "attachments": {},
   "cell_type": "markdown",
   "metadata": {},
   "source": [
    "Torch implementation of NMF - When done should be moved to a .py file to allow easy implementation, or alternatively allow saving of model parameters"
   ]
  },
  {
   "cell_type": "code",
   "execution_count": 1,
   "metadata": {},
   "outputs": [],
   "source": [
    "import torch\n",
    "import numpy as np\n",
    "import pandas as pd\n",
    "\n",
    "from helpers.data import X\n",
    "from helpers.callbacks import earlyStop\n",
    "from helpers.losses import VolLoss"
   ]
  },
  {
   "attachments": {},
   "cell_type": "markdown",
   "metadata": {},
   "source": [
    "Non negative matrix factorization works by finding matrices W and H such that X = WH"
   ]
  },
  {
   "cell_type": "code",
   "execution_count": 2,
   "metadata": {},
   "outputs": [],
   "source": [
    "class torchNMF(torch.nn.Module):\n",
    "    def __init__(self, X, rank):\n",
    "        super(torchNMF, self).__init__()\n",
    "        \n",
    "        #Shape of Matrix for reproduction\n",
    "        n_row, n_col = X.shape\n",
    "        self.X = torch.tensor(X)\n",
    "        \n",
    "        self.softmax = torch.nn.Softmax(dim = 0)\n",
    "        self.softplus = torch.nn.Softplus()\n",
    "        \n",
    "        #Initialization of Tensors/Matrices a and b with size NxR and RxM\n",
    "        # W is the basis matrix\n",
    "        self.W = torch.nn.Parameter(torch.rand(n_row, rank, requires_grad=True))\n",
    "        # H is the encoding matrix\n",
    "        self.H = torch.nn.Parameter(torch.rand(rank, n_col, requires_grad=True))\n",
    "        \n",
    "    def forward(self):\n",
    "        \n",
    "        #Implementation of NMF - F(W, H) = ||X - WH||^2\n",
    "        self.WH = torch.matmul(self.softmax(self.W), self.softplus(self.H))\n",
    "        x = self.WH\n",
    "        \n",
    "        return self.softmax(self.W), self.softplus(self.H), x"
   ]
  },
  {
   "cell_type": "code",
   "execution_count": 3,
   "metadata": {},
   "outputs": [
    {
     "name": "stderr",
     "output_type": "stream",
     "text": [
      "C:\\Users\\lucas\\AppData\\Local\\Temp\\ipykernel_17892\\509467416.py:7: UserWarning: To copy construct from a tensor, it is recommended to use sourceTensor.clone().detach() or sourceTensor.clone().detach().requires_grad_(True), rather than torch.tensor(sourceTensor).\n",
      "  self.X = torch.tensor(X)\n"
     ]
    },
    {
     "name": "stdout",
     "output_type": "stream",
     "text": [
      "epoch: 2932, Loss: 773.42848274616069\r"
     ]
    }
   ],
   "source": [
    "torch.manual_seed(0)\n",
    "\n",
    "X = torch.tensor(X)\n",
    "\n",
    "nmf = torchNMF(X, 3)\n",
    "\n",
    "#optimizer for modifying learning rate, ADAM chosen because of https://machinelearningmastery.com/adam-optimization-algorithm-for-deep-learning/\n",
    "optimizer = torch.optim.Adam(nmf.parameters(), lr=0.3)\n",
    "\n",
    "#early stopping\n",
    "es = earlyStop(patience=10, offset=-0.00000001)\n",
    "\n",
    "running_loss = []\n",
    "\n",
    "while (not es.trigger()):\n",
    "    #zero optimizer gradient\n",
    "    optimizer.zero_grad()\n",
    "\n",
    "    #forward\n",
    "    w_out, h_out, x_out = nmf()\n",
    "    #backward\n",
    "    loss = VolLoss(X)\n",
    "    loss = loss.forward(w_out, h_out, x_out)\n",
    "    loss.backward()\n",
    "    \n",
    "    #Update A and B\n",
    "    optimizer.step()\n",
    "    \n",
    "    running_loss.append(loss.item())\n",
    "    es.count(loss.item())\n",
    "    \n",
    "    #print loss\n",
    "    print(f\"epoch: {len(running_loss)}, Loss: {loss.item()}\", end='\\r')"
   ]
  },
  {
   "cell_type": "code",
   "execution_count": 6,
   "metadata": {},
   "outputs": [
    {
     "name": "stdout",
     "output_type": "stream",
     "text": [
      "torch.Size([29, 3])\n",
      "tensor(1.0000, grad_fn=<SumBackward0>)\n"
     ]
    }
   ],
   "source": [
    "W, H = list(nmf.parameters())\n",
    "\n",
    "W = nmf.softmax(W)\n",
    "H = nmf.softplus(H)\n",
    "\n",
    "print(W.size())\n",
    "\n",
    "print(W[:,2].sum())\n",
    "\n",
    "W = W.detach().numpy()\n",
    "H = H.detach().numpy()\n",
    "\n",
    "rec = np.dot(W, H)\n",
    "\n",
    "rec = rec.T\n",
    "\n",
    "rec_frame = pd.DataFrame(rec)\n",
    "rec_frame.columns = rec_frame.columns.astype(str)\n",
    "\n",
    "\n",
    "rec_frame.to_parquet(\"recons_x_nmf_vol.parquet\",\n",
    "                     engine = 'fastparquet')"
   ]
  }
 ],
 "metadata": {
  "kernelspec": {
   "display_name": "Python 3",
   "language": "python",
   "name": "python3"
  },
  "language_info": {
   "codemirror_mode": {
    "name": "ipython",
    "version": 3
   },
   "file_extension": ".py",
   "mimetype": "text/x-python",
   "name": "python",
   "nbconvert_exporter": "python",
   "pygments_lexer": "ipython3",
   "version": "3.10.8"
  },
  "orig_nbformat": 4,
  "vscode": {
   "interpreter": {
    "hash": "b012cf831463c8411566bd9a91d8acbb20d4e2e031e312936b3077b35d5bc46e"
   }
  }
 },
 "nbformat": 4,
 "nbformat_minor": 2
}
