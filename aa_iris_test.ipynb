{
 "cells": [
  {
   "cell_type": "code",
   "execution_count": 1,
   "metadata": {},
   "outputs": [],
   "source": [
    "import pandas as pd\n",
    "import numpy as np\n",
    "import matplotlib.pyplot as plt\n",
    "from sklearn.decomposition import PCA\n",
    "import scipy"
   ]
  },
  {
   "cell_type": "code",
   "execution_count": 2,
   "metadata": {},
   "outputs": [],
   "source": [
    "#import AA from parent directory\n",
    "from torchAA import torchAA\n",
    "from helpers.callbacks import EarlyStop"
   ]
  },
  {
   "cell_type": "code",
   "execution_count": 5,
   "metadata": {},
   "outputs": [],
   "source": [
    "mat = scipy.io.loadmat('NMR_mix_DoE.mat')\n",
    "\n",
    "\n",
    "# Get X and Labels. Probably different for the other dataset, but i didn't check :)\n",
    "X = mat.get('xData')\n",
    "targets = mat.get('yData')\n",
    "target_labels = mat.get('yLabels')\n",
    "axis = mat.get(\"Axis\")"
   ]
  },
  {
   "cell_type": "code",
   "execution_count": 6,
   "metadata": {},
   "outputs": [
    {
     "data": {
      "text/plain": [
       "array([[ 4.03247070e+00, -2.82177734e+00, -8.99389648e+00, ...,\n",
       "        -1.47810059e+01, -1.08269043e+01, -7.94067383e+00],\n",
       "       [ 2.04589844e-01,  4.29199219e-01,  2.56347656e-02, ...,\n",
       "        -1.49082031e+01, -1.79223633e+01, -2.20202637e+01],\n",
       "       [-9.61425781e-01, -6.82958984e+00, -1.07421875e+01, ...,\n",
       "        -9.44091797e-01, -1.75903320e+00, -3.44335938e+00],\n",
       "       ...,\n",
       "       [ 8.46153000e+01,  8.78576000e+01,  8.88745000e+01, ...,\n",
       "         3.73382000e+01,  3.33841000e+01,  2.91643000e+01],\n",
       "       [ 3.64296000e+01,  3.98378000e+01,  4.36526000e+01, ...,\n",
       "         4.18780000e+00,  5.04840000e+00,  6.55640000e+00],\n",
       "       [-1.29449000e+01, -1.17738000e+01, -9.92300000e+00, ...,\n",
       "        -9.02650000e+00, -1.08731000e+01, -1.41708000e+01]])"
      ]
     },
     "execution_count": 6,
     "metadata": {},
     "output_type": "execute_result"
    }
   ],
   "source": [
    "targets\n",
    "X"
   ]
  },
  {
   "cell_type": "code",
   "execution_count": 8,
   "metadata": {},
   "outputs": [
    {
     "data": {
      "text/html": [
       "<div>\n",
       "<style scoped>\n",
       "    .dataframe tbody tr th:only-of-type {\n",
       "        vertical-align: middle;\n",
       "    }\n",
       "\n",
       "    .dataframe tbody tr th {\n",
       "        vertical-align: top;\n",
       "    }\n",
       "\n",
       "    .dataframe thead th {\n",
       "        text-align: right;\n",
       "    }\n",
       "</style>\n",
       "<table border=\"1\" class=\"dataframe\">\n",
       "  <thead>\n",
       "    <tr style=\"text-align: right;\">\n",
       "      <th></th>\n",
       "      <th>5.1</th>\n",
       "      <th>3.5</th>\n",
       "      <th>1.4</th>\n",
       "      <th>0.2</th>\n",
       "      <th>Iris-setosa</th>\n",
       "    </tr>\n",
       "  </thead>\n",
       "  <tbody>\n",
       "    <tr>\n",
       "      <th>0</th>\n",
       "      <td>4.9</td>\n",
       "      <td>3.0</td>\n",
       "      <td>1.4</td>\n",
       "      <td>0.2</td>\n",
       "      <td>Iris-setosa</td>\n",
       "    </tr>\n",
       "    <tr>\n",
       "      <th>1</th>\n",
       "      <td>4.7</td>\n",
       "      <td>3.2</td>\n",
       "      <td>1.3</td>\n",
       "      <td>0.2</td>\n",
       "      <td>Iris-setosa</td>\n",
       "    </tr>\n",
       "    <tr>\n",
       "      <th>2</th>\n",
       "      <td>4.6</td>\n",
       "      <td>3.1</td>\n",
       "      <td>1.5</td>\n",
       "      <td>0.2</td>\n",
       "      <td>Iris-setosa</td>\n",
       "    </tr>\n",
       "    <tr>\n",
       "      <th>3</th>\n",
       "      <td>5.0</td>\n",
       "      <td>3.6</td>\n",
       "      <td>1.4</td>\n",
       "      <td>0.2</td>\n",
       "      <td>Iris-setosa</td>\n",
       "    </tr>\n",
       "    <tr>\n",
       "      <th>4</th>\n",
       "      <td>5.4</td>\n",
       "      <td>3.9</td>\n",
       "      <td>1.7</td>\n",
       "      <td>0.4</td>\n",
       "      <td>Iris-setosa</td>\n",
       "    </tr>\n",
       "  </tbody>\n",
       "</table>\n",
       "</div>"
      ],
      "text/plain": [
       "   5.1  3.5  1.4  0.2  Iris-setosa\n",
       "0  4.9  3.0  1.4  0.2  Iris-setosa\n",
       "1  4.7  3.2  1.3  0.2  Iris-setosa\n",
       "2  4.6  3.1  1.5  0.2  Iris-setosa\n",
       "3  5.0  3.6  1.4  0.2  Iris-setosa\n",
       "4  5.4  3.9  1.7  0.4  Iris-setosa"
      ]
     },
     "execution_count": 8,
     "metadata": {},
     "output_type": "execute_result"
    }
   ],
   "source": [
    "df = pd.read_csv(\"iris.csv\")\n",
    "df.head()"
   ]
  },
  {
   "cell_type": "code",
   "execution_count": 9,
   "metadata": {},
   "outputs": [],
   "source": [
    "#make a dataframe with only the first 2 and last column\n",
    "df = df.iloc[:, [0,1,4]]"
   ]
  },
  {
   "cell_type": "code",
   "execution_count": 10,
   "metadata": {},
   "outputs": [],
   "source": [
    "# PC = PCA(n_components=2)\n",
    "X = df.iloc[:,0:2].values\n",
    "# remove the first column\n",
    "# X = X[:,1:3]\n",
    "# append the labels to the data\n",
    "X_plot = np.append(X, df.iloc[:,2:3], axis=1)"
   ]
  },
  {
   "cell_type": "code",
   "execution_count": 11,
   "metadata": {},
   "outputs": [
    {
     "data": {
      "text/plain": [
       "(2, 149)"
      ]
     },
     "execution_count": 11,
     "metadata": {},
     "output_type": "execute_result"
    }
   ],
   "source": [
    "X.T.shape"
   ]
  },
  {
   "cell_type": "code",
   "execution_count": 19,
   "metadata": {},
   "outputs": [],
   "source": [
    "#plot the data\n",
    "#map the labels to colors\n",
    "colors = {\"Iris-setosa\": \"red\", \"Iris-versicolor\": \"blue\", \"Iris-virginica\": \"green\"}\n",
    "# plt.scatter(X_plot[:,0], X_plot[:,1], c=[colors[label] for label in X_plot[:,2]])\n",
    "# plt.show()"
   ]
  },
  {
   "cell_type": "code",
   "execution_count": 13,
   "metadata": {},
   "outputs": [],
   "source": [
    "#train the model\n",
    "import torch\n",
    "AA = torchAA(X, 3)"
   ]
  },
  {
   "cell_type": "code",
   "execution_count": 14,
   "metadata": {},
   "outputs": [
    {
     "name": "stdout",
     "output_type": "stream",
     "text": [
      "epoch: 297, Loss: 12.114905885657501\r"
     ]
    }
   ],
   "source": [
    "C, S = AA.fit(verbose=True, stopper=EarlyStop(patience=10, offset=-1e-5))"
   ]
  },
  {
   "cell_type": "code",
   "execution_count": 16,
   "metadata": {},
   "outputs": [
    {
     "name": "stdout",
     "output_type": "stream",
     "text": [
      "(3, 149)\n",
      "(149, 3)\n",
      "(149, 2)\n"
     ]
    }
   ],
   "source": [
    "print(C.shape)\n",
    "print(S.shape)\n",
    "print(X.shape)"
   ]
  },
  {
   "cell_type": "code",
   "execution_count": 17,
   "metadata": {},
   "outputs": [],
   "source": [
    "A = np.matmul(C, X)\n",
    "rec = np.matmul(S, A)"
   ]
  },
  {
   "cell_type": "code",
   "execution_count": 21,
   "metadata": {},
   "outputs": [
    {
     "data": {
      "image/png": "[encoded data removed]",
      "text/plain": [
       "<Figure size 640x480 with 1 Axes>"
      ]
     },
     "metadata": {},
     "output_type": "display_data"
    }
   ],
   "source": [
    "#plot the archetypes\n",
    "plt.figure()\n",
    "\n",
    "#matmul the archetypes with the data to get the reconstructed data\n",
    "# A = np.matmul(C, X)\n",
    "# recons = np.matmul(S, A)\n",
    "\n",
    "\n",
    "plt.scatter(X[:,0], X[:,1], c=[colors[label] for label in X_plot[:,2]])\n",
    "\n",
    "\n",
    "for vec in A:\n",
    "    plt.scatter(vec[0], vec[1], c=\"black\")\n",
    "\n",
    "plt.title(\"Archetypes\")\n",
    "plt.show()"
   ]
  },
  {
   "cell_type": "code",
   "execution_count": null,
   "metadata": {},
   "outputs": [],
   "source": []
  }
 ],
 "metadata": {
  "kernelspec": {
   "display_name": "Python 3",
   "language": "python",
   "name": "python3"
  },
  "language_info": {
   "codemirror_mode": {
    "name": "ipython",
    "version": 3
   },
   "file_extension": ".py",
   "mimetype": "text/x-python",
   "name": "python",
   "nbconvert_exporter": "python",
   "pygments_lexer": "ipython3",
   "version": "3.8.6"
  },
  "orig_nbformat": 4
 },
 "nbformat": 4,
 "nbformat_minor": 2
}
