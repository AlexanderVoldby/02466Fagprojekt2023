{
 "cells": [
  {
   "cell_type": "code",
   "execution_count": 2,
   "metadata": {},
   "outputs": [
    {
     "name": "stderr",
     "output_type": "stream",
     "text": [
      "C:\\Users\\lucas\\AppData\\Local\\Packages\\PythonSoftwareFoundation.Python.3.8_qbz5n2kfra8p0\\LocalCache\\local-packages\\Python38\\site-packages\\scipy\\__init__.py:146: UserWarning: A NumPy version >=1.16.5 and <1.23.0 is required for this version of SciPy (detected version 1.23.3\n",
      "  warnings.warn(f\"A NumPy version >={np_minversion} and <{np_maxversion}\"\n"
     ]
    }
   ],
   "source": [
    "import scipy.io\n",
    "import numpy as np\n",
    "import matplotlib.pyplot as plt"
   ]
  },
  {
   "cell_type": "code",
   "execution_count": 3,
   "metadata": {},
   "outputs": [],
   "source": [
    "mat = scipy.io.loadmat('data/nmrdata.mat')"
   ]
  },
  {
   "cell_type": "code",
   "execution_count": 7,
   "metadata": {},
   "outputs": [
    {
     "name": "stdout",
     "output_type": "stream",
     "text": [
      "1949.6379151011613\n"
     ]
    }
   ],
   "source": [
    "len(mat.get('nmrdata')[0][0][1])\n",
    "\n",
    "X = mat.get('nmrdata')[0][0][0]\n",
    "labels = mat.get('nmrdata')[0][0][0]\n",
    "\n",
    "mu_Y = np.mean(X)\n",
    "std_U = np.std(X)\n",
    "\n",
    "def normalize_data(target):\n",
    "    return (target - np.mean(target))/np.std(target)\n",
    "\n",
    "def inv_normalize_data(target, mean, std):\n",
    "    return target * std + mean\n",
    "\n",
    "X = normalize_data(X)"
   ]
  }
 ],
 "metadata": {
  "kernelspec": {
   "display_name": "Python 3",
   "language": "python",
   "name": "python3"
  },
  "language_info": {
   "codemirror_mode": {
    "name": "ipython",
    "version": 3
   },
   "file_extension": ".py",
   "mimetype": "text/x-python",
   "name": "python",
   "nbconvert_exporter": "python",
   "pygments_lexer": "ipython3",
   "version": "3.8.10"
  },
  "orig_nbformat": 4,
  "vscode": {
   "interpreter": {
    "hash": "a3dcb887a7f93c0b256f7c8ed9d83f8825604366400f976b9e39420250e02c66"
   }
  }
 },
 "nbformat": 4,
 "nbformat_minor": 2
}
