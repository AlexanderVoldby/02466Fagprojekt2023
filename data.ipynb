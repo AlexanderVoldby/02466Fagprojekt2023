{
 "cells": [
  {
   "cell_type": "code",
   "execution_count": 65,
   "metadata": {},
   "outputs": [],
   "source": [
    "import scipy.io\n",
    "import numpy as np\n",
    "import matplotlib.pyplot as plt"
   ]
  },
  {
   "cell_type": "code",
   "execution_count": 3,
   "metadata": {},
   "outputs": [],
   "source": [
    "mat = scipy.io.loadmat('data/nmrdata.mat')"
   ]
  },
  {
   "cell_type": "code",
   "execution_count": 71,
   "metadata": {},
   "outputs": [],
   "source": [
    "len(mat.get('nmrdata')[0][0][1])\n",
    "\n",
    "Y = mat.get('nmrdata')[0][0][0]\n",
    "labels = mat.get('nmrdata')[0][0][0]\n",
    "\n",
    "mu_Y = np.mean(Y)\n",
    "std_U = np.std(Y)\n",
    "\n",
    "def normalize_data(target):\n",
    "    return (target - np.mean(target))/np.std(target)\n",
    "\n",
    "def inv_normalize_data(target, mean, std):\n",
    "    return target * std + mean\n",
    "\n",
    "Y = normalize_data(Y)\n"
   ]
  },
  {
   "cell_type": "code",
   "execution_count": 78,
   "metadata": {},
   "outputs": [
    {
     "data": {
      "text/plain": [
       "[<matplotlib.lines.Line2D at 0x145edaba130>]"
      ]
     },
     "execution_count": 78,
     "metadata": {},
     "output_type": "execute_result"
    },
    {
     "data": {
      "image/png": "[encoded data removed]",
      "text/plain": [
       "<Figure size 432x288 with 1 Axes>"
      ]
     },
     "metadata": {
      "needs_background": "light"
     },
     "output_type": "display_data"
    }
   ],
   "source": [
    "plt.plot(Y[0])"
   ]
  }
 ],
 "metadata": {
  "kernelspec": {
   "display_name": "Python 3",
   "language": "python",
   "name": "python3"
  },
  "language_info": {
   "codemirror_mode": {
    "name": "ipython",
    "version": 3
   },
   "file_extension": ".py",
   "mimetype": "text/x-python",
   "name": "python",
   "nbconvert_exporter": "python",
   "pygments_lexer": "ipython3",
   "version": "3.8.6"
  },
  "orig_nbformat": 4,
  "vscode": {
   "interpreter": {
    "hash": "b012cf831463c8411566bd9a91d8acbb20d4e2e031e312936b3077b35d5bc46e"
   }
  }
 },
 "nbformat": 4,
 "nbformat_minor": 2
}
