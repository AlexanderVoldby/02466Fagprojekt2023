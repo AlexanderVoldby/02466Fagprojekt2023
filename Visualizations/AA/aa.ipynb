{
 "cells": [
  {
   "cell_type": "code",
   "execution_count": 1,
   "metadata": {},
   "outputs": [],
   "source": [
    "import pandas as pd\n",
    "import numpy as np\n",
    "import matplotlib.pyplot as plt\n",
    "from sklearn.decomposition import PCA\n",
    "import scipy"
   ]
  },
  {
   "cell_type": "code",
   "execution_count": 2,
   "metadata": {},
   "outputs": [
    {
     "name": "stdout",
     "output_type": "stream",
     "text": [
      "torchAA.py\n"
     ]
    }
   ],
   "source": [
    "#import AA from parent directory\n",
    "import torch\n",
    "from torchAA import torchAA\n",
    "from helpers.callbacks import EarlyStop"
   ]
  },
  {
   "cell_type": "code",
   "execution_count": 3,
   "metadata": {},
   "outputs": [],
   "source": [
    "import sys\n",
    "sys.path.append(\"../..\")\n",
    "from helpers.initializers import FurthestSum"
   ]
  },
  {
   "cell_type": "code",
   "execution_count": 4,
   "metadata": {},
   "outputs": [],
   "source": [
    "# mat = scipy.io.loadmat('data/NMR_mix_DoE.mat')\n",
    "\n",
    "\n",
    "# # Get X and Labels. Probably different for the other dataset, but i didn't check :)\n",
    "# X = mat.get('xData')\n",
    "# targets = mat.get('yData')\n",
    "# target_labels = mat.get('yLabels')\n",
    "\n",
    "# #convert target labels to colors in a dict\n",
    "\n",
    "# # colors = {\"Iris-setosa\": \"red\", \"Iris-versicolor\": \"blue\", \"Iris-virginica\": \"green\"}\n",
    "# colors = {target_labels[0]: \"red\", target_labels[1]: \"blue\", target_labels[2]: \"green\"}\n",
    "# targets\n",
    "# axis = mat.get(\"Axis\")"
   ]
  },
  {
   "cell_type": "code",
   "execution_count": 5,
   "metadata": {},
   "outputs": [],
   "source": [
    "# fig, axs = plt.subplots(1, 3, sharey=True)\n",
    "# axs[0].plot(X[[np.all(x == [100, 0, 0]) for x in targets]][0], label=\"Propanol\")\n",
    "# axs[0].set_title(\"Propanol\")\n",
    "# axs[1].plot(X[[np.all(x == [0, 100, 0]) for x in targets]][0], label=\"Butanol\")\n",
    "# axs[1].set_title(\"Butanol\")\n",
    "# axs[2].plot(X[[np.all(x == [0, 0, 100]) for x in targets]][0], label=\"Pentanol\")\n",
    "# axs[2].set_title(\"Pentanol\")\n",
    "# plt.show()"
   ]
  },
  {
   "cell_type": "code",
   "execution_count": 6,
   "metadata": {},
   "outputs": [
    {
     "data": {
      "text/html": [
       "<div>\n",
       "<style scoped>\n",
       "    .dataframe tbody tr th:only-of-type {\n",
       "        vertical-align: middle;\n",
       "    }\n",
       "\n",
       "    .dataframe tbody tr th {\n",
       "        vertical-align: top;\n",
       "    }\n",
       "\n",
       "    .dataframe thead th {\n",
       "        text-align: right;\n",
       "    }\n",
       "</style>\n",
       "<table border=\"1\" class=\"dataframe\">\n",
       "  <thead>\n",
       "    <tr style=\"text-align: right;\">\n",
       "      <th></th>\n",
       "      <th>5.1</th>\n",
       "      <th>3.5</th>\n",
       "      <th>1.4</th>\n",
       "      <th>0.2</th>\n",
       "      <th>Iris-setosa</th>\n",
       "    </tr>\n",
       "  </thead>\n",
       "  <tbody>\n",
       "    <tr>\n",
       "      <th>0</th>\n",
       "      <td>4.9</td>\n",
       "      <td>3.0</td>\n",
       "      <td>1.4</td>\n",
       "      <td>0.2</td>\n",
       "      <td>Iris-setosa</td>\n",
       "    </tr>\n",
       "    <tr>\n",
       "      <th>1</th>\n",
       "      <td>4.7</td>\n",
       "      <td>3.2</td>\n",
       "      <td>1.3</td>\n",
       "      <td>0.2</td>\n",
       "      <td>Iris-setosa</td>\n",
       "    </tr>\n",
       "    <tr>\n",
       "      <th>2</th>\n",
       "      <td>4.6</td>\n",
       "      <td>3.1</td>\n",
       "      <td>1.5</td>\n",
       "      <td>0.2</td>\n",
       "      <td>Iris-setosa</td>\n",
       "    </tr>\n",
       "    <tr>\n",
       "      <th>3</th>\n",
       "      <td>5.0</td>\n",
       "      <td>3.6</td>\n",
       "      <td>1.4</td>\n",
       "      <td>0.2</td>\n",
       "      <td>Iris-setosa</td>\n",
       "    </tr>\n",
       "    <tr>\n",
       "      <th>4</th>\n",
       "      <td>5.4</td>\n",
       "      <td>3.9</td>\n",
       "      <td>1.7</td>\n",
       "      <td>0.4</td>\n",
       "      <td>Iris-setosa</td>\n",
       "    </tr>\n",
       "  </tbody>\n",
       "</table>\n",
       "</div>"
      ],
      "text/plain": [
       "   5.1  3.5  1.4  0.2  Iris-setosa\n",
       "0  4.9  3.0  1.4  0.2  Iris-setosa\n",
       "1  4.7  3.2  1.3  0.2  Iris-setosa\n",
       "2  4.6  3.1  1.5  0.2  Iris-setosa\n",
       "3  5.0  3.6  1.4  0.2  Iris-setosa\n",
       "4  5.4  3.9  1.7  0.4  Iris-setosa"
      ]
     },
     "execution_count": 6,
     "metadata": {},
     "output_type": "execute_result"
    }
   ],
   "source": [
    "df = pd.read_csv(\"iris.csv\")\n",
    "df.head()"
   ]
  },
  {
   "cell_type": "code",
   "execution_count": 7,
   "metadata": {},
   "outputs": [],
   "source": [
    "# #make a dataframe with only the first 2 and last column\n",
    "df = df.iloc[:, [0,1,4]]"
   ]
  },
  {
   "cell_type": "code",
   "execution_count": 8,
   "metadata": {},
   "outputs": [
    {
     "data": {
      "text/html": [
       "<div>\n",
       "<style scoped>\n",
       "    .dataframe tbody tr th:only-of-type {\n",
       "        vertical-align: middle;\n",
       "    }\n",
       "\n",
       "    .dataframe tbody tr th {\n",
       "        vertical-align: top;\n",
       "    }\n",
       "\n",
       "    .dataframe thead th {\n",
       "        text-align: right;\n",
       "    }\n",
       "</style>\n",
       "<table border=\"1\" class=\"dataframe\">\n",
       "  <thead>\n",
       "    <tr style=\"text-align: right;\">\n",
       "      <th></th>\n",
       "      <th>5.1</th>\n",
       "      <th>3.5</th>\n",
       "      <th>Iris-setosa</th>\n",
       "    </tr>\n",
       "  </thead>\n",
       "  <tbody>\n",
       "    <tr>\n",
       "      <th>0</th>\n",
       "      <td>4.9</td>\n",
       "      <td>3.0</td>\n",
       "      <td>Iris-setosa</td>\n",
       "    </tr>\n",
       "    <tr>\n",
       "      <th>1</th>\n",
       "      <td>4.7</td>\n",
       "      <td>3.2</td>\n",
       "      <td>Iris-setosa</td>\n",
       "    </tr>\n",
       "    <tr>\n",
       "      <th>2</th>\n",
       "      <td>4.6</td>\n",
       "      <td>3.1</td>\n",
       "      <td>Iris-setosa</td>\n",
       "    </tr>\n",
       "    <tr>\n",
       "      <th>3</th>\n",
       "      <td>5.0</td>\n",
       "      <td>3.6</td>\n",
       "      <td>Iris-setosa</td>\n",
       "    </tr>\n",
       "    <tr>\n",
       "      <th>4</th>\n",
       "      <td>5.4</td>\n",
       "      <td>3.9</td>\n",
       "      <td>Iris-setosa</td>\n",
       "    </tr>\n",
       "    <tr>\n",
       "      <th>...</th>\n",
       "      <td>...</td>\n",
       "      <td>...</td>\n",
       "      <td>...</td>\n",
       "    </tr>\n",
       "    <tr>\n",
       "      <th>144</th>\n",
       "      <td>6.7</td>\n",
       "      <td>3.0</td>\n",
       "      <td>Iris-virginica</td>\n",
       "    </tr>\n",
       "    <tr>\n",
       "      <th>145</th>\n",
       "      <td>6.3</td>\n",
       "      <td>2.5</td>\n",
       "      <td>Iris-virginica</td>\n",
       "    </tr>\n",
       "    <tr>\n",
       "      <th>146</th>\n",
       "      <td>6.5</td>\n",
       "      <td>3.0</td>\n",
       "      <td>Iris-virginica</td>\n",
       "    </tr>\n",
       "    <tr>\n",
       "      <th>147</th>\n",
       "      <td>6.2</td>\n",
       "      <td>3.4</td>\n",
       "      <td>Iris-virginica</td>\n",
       "    </tr>\n",
       "    <tr>\n",
       "      <th>148</th>\n",
       "      <td>5.9</td>\n",
       "      <td>3.0</td>\n",
       "      <td>Iris-virginica</td>\n",
       "    </tr>\n",
       "  </tbody>\n",
       "</table>\n",
       "<p>149 rows × 3 columns</p>\n",
       "</div>"
      ],
      "text/plain": [
       "     5.1  3.5     Iris-setosa\n",
       "0    4.9  3.0     Iris-setosa\n",
       "1    4.7  3.2     Iris-setosa\n",
       "2    4.6  3.1     Iris-setosa\n",
       "3    5.0  3.6     Iris-setosa\n",
       "4    5.4  3.9     Iris-setosa\n",
       "..   ...  ...             ...\n",
       "144  6.7  3.0  Iris-virginica\n",
       "145  6.3  2.5  Iris-virginica\n",
       "146  6.5  3.0  Iris-virginica\n",
       "147  6.2  3.4  Iris-virginica\n",
       "148  5.9  3.0  Iris-virginica\n",
       "\n",
       "[149 rows x 3 columns]"
      ]
     },
     "execution_count": 8,
     "metadata": {},
     "output_type": "execute_result"
    }
   ],
   "source": [
    "df"
   ]
  },
  {
   "cell_type": "code",
   "execution_count": 9,
   "metadata": {},
   "outputs": [],
   "source": [
    "# PC = PCA(n_components=2)\n",
    "# X = PC.fit_transform(df.iloc[:,0:4].values)\n",
    "X = df.iloc[:,0:2].values\n",
    "# remove the first column\n",
    "# X = X.T\n",
    "# X = X[:,1:3]\n",
    "X_plot = np.append(X, df.iloc[:,2:3], axis=1)\n",
    "# append the labels to the data"
   ]
  },
  {
   "cell_type": "code",
   "execution_count": 10,
   "metadata": {},
   "outputs": [],
   "source": [
    "#plot the data\n",
    "#map the labels to colors\n",
    "colors = {\"Iris-setosa\": \"red\", \"Iris-versicolor\": \"blue\", \"Iris-virginica\": \"green\"}\n",
    "# plt.scatter(X_plot[:,0], X_plot[:,1], c=[colors[label] for label in X_plot[:,2]])\n",
    "# plt.show()"
   ]
  },
  {
   "cell_type": "code",
   "execution_count": 11,
   "metadata": {},
   "outputs": [
    {
     "name": "stderr",
     "output_type": "stream",
     "text": [
      "c:\\Users\\lucas\\Documents\\UNI\\fagprojekt\\02466Fagprojekt2023\\Visualizations\\AA\\torchAA.py:30: UserWarning: To copy construct from a tensor, it is recommended to use sourceTensor.clone().detach() or sourceTensor.clone().detach().requires_grad_(True), rather than torch.tensor(sourceTensor).\n",
      "  self.C = torch.tensor(self.C, requires_grad=True)\n"
     ]
    },
    {
     "name": "stdout",
     "output_type": "stream",
     "text": [
      "epoch: 365, Loss: 9.5932964412337972\r"
     ]
    }
   ],
   "source": [
    "#train the model\n",
    "AA = torchAA(X.T, 3, initializer=1)\n",
    "C, S = AA.fit(verbose=True, stopper=EarlyStop(patience=30, offset=-1e-5))"
   ]
  },
  {
   "cell_type": "code",
   "execution_count": 12,
   "metadata": {},
   "outputs": [
    {
     "name": "stdout",
     "output_type": "stream",
     "text": [
      "(149, 2)\n"
     ]
    }
   ],
   "source": [
    "print(X.shape)"
   ]
  },
  {
   "cell_type": "code",
   "execution_count": 13,
   "metadata": {},
   "outputs": [
    {
     "name": "stdout",
     "output_type": "stream",
     "text": [
      "0.5580724\n"
     ]
    }
   ],
   "source": [
    "print(np.max(C))"
   ]
  },
  {
   "cell_type": "code",
   "execution_count": 14,
   "metadata": {},
   "outputs": [
    {
     "name": "stdout",
     "output_type": "stream",
     "text": [
      "(149, 3)\n",
      "(3, 149)\n",
      "(149, 2)\n"
     ]
    }
   ],
   "source": [
    "print(C.shape)\n",
    "print(S.shape)\n",
    "print(X.shape)"
   ]
  },
  {
   "cell_type": "code",
   "execution_count": 15,
   "metadata": {},
   "outputs": [],
   "source": [
    "A = np.matmul(X.T, C)\n",
    "rec = np.matmul(A, S)\n",
    "#append the first element of A to the end of A\n",
    "A = np.append(A, A[0:1,:], axis=0)"
   ]
  },
  {
   "cell_type": "code",
   "execution_count": 16,
   "metadata": {},
   "outputs": [
    {
     "data": {
      "image/png": "[encoded data removed]",
      "text/plain": [
       "<Figure size 432x288 with 1 Axes>"
      ]
     },
     "metadata": {
      "needs_background": "light"
     },
     "output_type": "display_data"
    }
   ],
   "source": [
    "#plot the archetypes\n",
    "plt.figure()\n",
    "\n",
    "#matmul the archetypes with the data to get the reconstructed data\n",
    "# A = np.matmul(C, X)\n",
    "# recons = np.matmul(S, A)\n",
    "\n",
    "plt.scatter(X[:,0], X[:,1], c=[colors[label] for label in X_plot[:,2]])\n",
    "\n",
    "#draw lines between all the archetypes\n",
    "# for i,vec in enumerate(A):\n",
    "#     # plt.scatter(vec[0], vec[1], c=\"black\")\n",
    "#     plt.plot([A[i-1][0], vec[0]], [A[-1][1], vec[1]], c=\"black\")\n",
    "#     # plt.plot(A[i-1][0], A[i-1][1], c=\"black\")\n",
    "\n",
    "\n",
    "plt.scatter(A.T[:,0], A.T[:,1], c=\"black\", label=\"Archetypes\")\n",
    "\n",
    "#draw lines between all the archetypes\n",
    "plt.plot(A.T[:,0], A.T[:,1], c=\"black\", label=\"Convex Hull\")\n",
    "\n",
    "\n",
    "# plt.title(\"Archetypes\")\n",
    "plt.xlabel(\"Sepal length\")\n",
    "plt.ylabel(\"Sepal width\")\n",
    "plt.legend()\n",
    "plt.show()"
   ]
  },
  {
   "cell_type": "code",
   "execution_count": null,
   "metadata": {},
   "outputs": [],
   "source": []
  },
  {
   "cell_type": "code",
   "execution_count": 24,
   "metadata": {},
   "outputs": [
    {
     "data": {
      "image/png": "[encoded data removed]",
      "text/plain": [
       "<Figure size 432x288 with 1 Axes>"
      ]
     },
     "metadata": {
      "needs_background": "light"
     },
     "output_type": "display_data"
    }
   ],
   "source": [
    "points = 3\n",
    "\n",
    "inital_index = FurthestSum(X.T, points, 0)\n",
    "\n",
    "plt.scatter(X[:,0], X[:,1], c=[colors[label] for label in X_plot[:,2]])\n",
    "\n",
    "for i in inital_index:\n",
    "    plt.scatter(X[i].T[0], X[i].T[1], label=\"First signal of X\", color=\"black\")\n",
    "\n",
    "plt.xlabel(\"Sepal length\")\n",
    "plt.ylabel(\"Sepal width\")\n",
    "plt.show()"
   ]
  },
  {
   "cell_type": "code",
   "execution_count": 18,
   "metadata": {},
   "outputs": [
    {
     "name": "stdout",
     "output_type": "stream",
     "text": [
      "epoch: 216, Loss: 8.4613058451587539\r"
     ]
    }
   ],
   "source": [
    "#show loss difference between furthest sum and random initialization\n",
    "Random_loss = []\n",
    "FurthestSum_loss = []\n",
    "\n",
    "Random_epochs = []\n",
    "FurthestSum_epochs = []\n",
    "\n",
    "for i in range(1):\n",
    "    AA = torchAA(X.T, 3)\n",
    "    C, S, loss = AA.fit(verbose=False, stopper=EarlyStop(patience=30, offset=-1e-5), return_loss=True)\n",
    "    Random_loss.append(AA.lossfn.forward(AA.forward()).item())\n",
    "    Random_epochs.append(len(loss))\n",
    "    \n",
    "    \n",
    "    AA = torchAA(X.T, 3, initializer=1)\n",
    "    C, S, loss = AA.fit(verbose=True, stopper=EarlyStop(patience=10, offset=-1e-5), return_loss=True)\n",
    "    FurthestSum_loss.append(AA.lossfn.forward(AA.forward()).item())\n",
    "    FurthestSum_epochs.append(len(loss))\n",
    "    \n",
    "    "
   ]
  },
  {
   "cell_type": "code",
   "execution_count": 19,
   "metadata": {},
   "outputs": [
    {
     "name": "stdout",
     "output_type": "stream",
     "text": [
      "24.839862000775685\n",
      "0.0\n",
      "8.461293251451275\n",
      "0.0\n"
     ]
    }
   ],
   "source": [
    "print(np.mean(Random_loss))\n",
    "print(np.std(Random_loss))\n",
    "\n",
    "print(np.mean(FurthestSum_loss))\n",
    "print(np.std(FurthestSum_loss))"
   ]
  },
  {
   "cell_type": "code",
   "execution_count": 20,
   "metadata": {},
   "outputs": [
    {
     "data": {
      "image/png": "[encoded data removed]",
      "text/plain": [
       "<Figure size 432x288 with 1 Axes>"
      ]
     },
     "metadata": {
      "needs_background": "light"
     },
     "output_type": "display_data"
    },
    {
     "data": {
      "image/png": "[encoded data removed]",
      "text/plain": [
       "<Figure size 432x288 with 1 Axes>"
      ]
     },
     "metadata": {
      "needs_background": "light"
     },
     "output_type": "display_data"
    }
   ],
   "source": [
    "#plot two errorplots of the loss\n",
    "# plt.bar([\"Random\", \"Furthest Sum\"], [np.mean(Random_loss), np.mean(FurthestSum_loss)], yerr=[np.std(Random_loss), np.std(FurthestSum_loss)])\n",
    "# plt.boxplot([Random_loss, FurthestSum_loss], labels=[\"Random\", \"Furthest Sum\"])\n",
    "plt.errorbar([\"Random\", \"Furthest Sum\"], [np.mean(Random_loss), np.mean(FurthestSum_loss)], yerr=[np.std(Random_loss), np.std(FurthestSum_loss)], fmt='o', capsize=10)\n",
    "plt.ylabel(\"Loss\")\n",
    "plt.xlim(-0.5, 1.5)\n",
    "plt.show()\n",
    "\n",
    "plt.errorbar([\"Random\", \"Furthest Sum\"], [np.mean(Random_epochs), np.mean(FurthestSum_epochs)], yerr=[np.std(Random_epochs), np.std(FurthestSum_epochs)], fmt='o', capsize=10)\n",
    "plt.ylabel(\"Epochs\")\n",
    "plt.xlim(-0.5, 1.5)\n",
    "plt.show()\n"
   ]
  }
 ],
 "metadata": {
  "kernelspec": {
   "display_name": "Python 3",
   "language": "python",
   "name": "python3"
  },
  "language_info": {
   "codemirror_mode": {
    "name": "ipython",
    "version": 3
   },
   "file_extension": ".py",
   "mimetype": "text/x-python",
   "name": "python",
   "nbconvert_exporter": "python",
   "pygments_lexer": "ipython3",
   "version": "3.8.6"
  },
  "orig_nbformat": 4
 },
 "nbformat": 4,
 "nbformat_minor": 2
}
