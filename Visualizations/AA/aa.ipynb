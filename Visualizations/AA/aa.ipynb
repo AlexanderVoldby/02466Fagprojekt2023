{
 "cells": [
  {
   "cell_type": "code",
   "execution_count": 92,
   "metadata": {},
   "outputs": [],
   "source": [
    "import pandas as pd\n",
    "import numpy as np\n",
    "import matplotlib.pyplot as plt\n",
    "from sklearn.decomposition import PCA\n",
    "import scipy"
   ]
  },
  {
   "cell_type": "code",
   "execution_count": 93,
   "metadata": {},
   "outputs": [],
   "source": [
    "#import AA from parent directory\n",
    "from torchAA import torchAA\n",
    "from helpers.callbacks import EarlyStop"
   ]
  },
  {
   "cell_type": "code",
   "execution_count": 102,
   "metadata": {},
   "outputs": [],
   "source": [
    "mat = scipy.io.loadmat('data/NMR_mix_DoE.mat')\n",
    "\n",
    "\n",
    "# Get X and Labels. Probably different for the other dataset, but i didn't check :)\n",
    "X = mat.get('xData')\n",
    "targets = mat.get('yData')\n",
    "target_labels = mat.get('yLabels')\n",
    "axis = mat.get(\"Axis\")"
   ]
  },
  {
   "cell_type": "code",
   "execution_count": 105,
   "metadata": {},
   "outputs": [
    {
     "data": {
      "text/plain": [
       "array([[  0, 100,   0],\n",
       "       [  5,  95,   0],\n",
       "       [ 10,  90,   0],\n",
       "       [ 15,  85,   0],\n",
       "       [ 20,  80,   0],\n",
       "       [ 25,  75,   0],\n",
       "       [ 30,  70,   0],\n",
       "       [ 35,  65,   0],\n",
       "       [ 40,  60,   0],\n",
       "       [ 45,  55,   0],\n",
       "       [ 50,  50,   0],\n",
       "       [ 55,  45,   0],\n",
       "       [ 60,  40,   0],\n",
       "       [ 65,  35,   0],\n",
       "       [ 70,  30,   0],\n",
       "       [ 75,  25,   0],\n",
       "       [ 80,  20,   0],\n",
       "       [ 85,  15,   0],\n",
       "       [ 90,  10,   0],\n",
       "       [ 95,   5,   0],\n",
       "       [100,   0,   0],\n",
       "       [  0,  95,   5],\n",
       "       [  5,  90,   5],\n",
       "       [ 10,  85,   5],\n",
       "       [ 15,  80,   5],\n",
       "       [ 20,  75,   5],\n",
       "       [ 25,  70,   5],\n",
       "       [ 30,  65,   5],\n",
       "       [ 35,  60,   5],\n",
       "       [ 40,  55,   5],\n",
       "       [ 45,  50,   5],\n",
       "       [ 50,  45,   5],\n",
       "       [ 55,  40,   5],\n",
       "       [ 60,  35,   5],\n",
       "       [ 65,  30,   5],\n",
       "       [ 70,  25,   5],\n",
       "       [ 75,  20,   5],\n",
       "       [ 80,  15,   5],\n",
       "       [ 85,  10,   5],\n",
       "       [ 90,   5,   5],\n",
       "       [ 95,   0,   5],\n",
       "       [  0,  90,  10],\n",
       "       [  5,  85,  10],\n",
       "       [ 10,  80,  10],\n",
       "       [ 15,  75,  10],\n",
       "       [ 20,  70,  10],\n",
       "       [ 25,  65,  10],\n",
       "       [ 30,  60,  10],\n",
       "       [ 35,  55,  10],\n",
       "       [ 40,  50,  10],\n",
       "       [ 45,  45,  10],\n",
       "       [ 50,  40,  10],\n",
       "       [ 55,  35,  10],\n",
       "       [ 60,  30,  10],\n",
       "       [ 65,  25,  10],\n",
       "       [ 70,  20,  10],\n",
       "       [ 75,  15,  10],\n",
       "       [ 80,  10,  10],\n",
       "       [ 85,   5,  10],\n",
       "       [ 90,   0,  10],\n",
       "       [  0,  85,  15],\n",
       "       [  5,  80,  15],\n",
       "       [ 10,  75,  15],\n",
       "       [ 15,  70,  15],\n",
       "       [ 20,  65,  15],\n",
       "       [ 25,  60,  15],\n",
       "       [ 35,  50,  15],\n",
       "       [ 40,  45,  15],\n",
       "       [ 45,  40,  15],\n",
       "       [ 50,  35,  15],\n",
       "       [ 55,  30,  15],\n",
       "       [ 60,  25,  15],\n",
       "       [ 65,  20,  15],\n",
       "       [ 70,  15,  15],\n",
       "       [ 75,  10,  15],\n",
       "       [ 80,   5,  15],\n",
       "       [ 85,   0,  15],\n",
       "       [  0,  80,  20],\n",
       "       [  5,  75,  20],\n",
       "       [ 10,  70,  20],\n",
       "       [ 15,  65,  20],\n",
       "       [ 20,  60,  20],\n",
       "       [ 25,  55,  20],\n",
       "       [ 30,  50,  20],\n",
       "       [ 35,  45,  20],\n",
       "       [ 40,  40,  20],\n",
       "       [ 45,  35,  20],\n",
       "       [ 50,  30,  20],\n",
       "       [ 55,  25,  20],\n",
       "       [ 60,  20,  20],\n",
       "       [ 65,  15,  20],\n",
       "       [ 70,  10,  20],\n",
       "       [ 75,   5,  20],\n",
       "       [ 80,   0,  20],\n",
       "       [  0,  75,  25],\n",
       "       [  5,  70,  25],\n",
       "       [ 10,  65,  25],\n",
       "       [ 15,  60,  25],\n",
       "       [ 20,  55,  25],\n",
       "       [ 25,  50,  25],\n",
       "       [ 30,  45,  25],\n",
       "       [ 35,  40,  25],\n",
       "       [ 40,  35,  25],\n",
       "       [ 45,  30,  25],\n",
       "       [ 50,  25,  25],\n",
       "       [ 55,  20,  25],\n",
       "       [ 60,  15,  25],\n",
       "       [ 65,  10,  25],\n",
       "       [ 70,   5,  25],\n",
       "       [ 75,   0,  25],\n",
       "       [  0,  70,  30],\n",
       "       [  5,  65,  30],\n",
       "       [ 10,  60,  30],\n",
       "       [ 15,  55,  30],\n",
       "       [ 20,  50,  30],\n",
       "       [ 25,  45,  30],\n",
       "       [ 30,  40,  30],\n",
       "       [ 35,  35,  30],\n",
       "       [ 40,  30,  30],\n",
       "       [ 45,  25,  30],\n",
       "       [ 50,  20,  30],\n",
       "       [ 55,  15,  30],\n",
       "       [ 60,  10,  30],\n",
       "       [ 65,   5,  30],\n",
       "       [ 70,   0,  30],\n",
       "       [  0,  65,  35],\n",
       "       [  5,  60,  35],\n",
       "       [ 10,  55,  35],\n",
       "       [ 15,  50,  35],\n",
       "       [ 20,  45,  35],\n",
       "       [ 25,  40,  35],\n",
       "       [ 30,  35,  35],\n",
       "       [ 35,  30,  35],\n",
       "       [ 40,  25,  35],\n",
       "       [ 45,  20,  35],\n",
       "       [ 50,  15,  35],\n",
       "       [ 55,  10,  35],\n",
       "       [ 60,   5,  35],\n",
       "       [ 65,   0,  35],\n",
       "       [  0,  60,  40],\n",
       "       [  5,  55,  40],\n",
       "       [ 10,  50,  40],\n",
       "       [ 15,  45,  40],\n",
       "       [ 20,  40,  40],\n",
       "       [ 25,  35,  40],\n",
       "       [ 30,  30,  40],\n",
       "       [ 35,  25,  40],\n",
       "       [ 40,  20,  40],\n",
       "       [ 45,  15,  40],\n",
       "       [ 50,  10,  40],\n",
       "       [ 55,   5,  40],\n",
       "       [ 60,   0,  40],\n",
       "       [  0,  55,  45],\n",
       "       [  5,  50,  45],\n",
       "       [ 10,  45,  45],\n",
       "       [ 15,  40,  45],\n",
       "       [ 20,  35,  45],\n",
       "       [ 25,  30,  45],\n",
       "       [ 30,  25,  45],\n",
       "       [ 35,  20,  45],\n",
       "       [ 40,  15,  45],\n",
       "       [ 45,  10,  45],\n",
       "       [ 50,   5,  45],\n",
       "       [ 55,   0,  45],\n",
       "       [  0,  50,  50],\n",
       "       [  5,  45,  50],\n",
       "       [ 10,  40,  50],\n",
       "       [ 15,  35,  50],\n",
       "       [ 20,  30,  50],\n",
       "       [ 25,  25,  50],\n",
       "       [ 30,  20,  50],\n",
       "       [ 35,  15,  50],\n",
       "       [ 40,  10,  50],\n",
       "       [ 45,   5,  50],\n",
       "       [ 50,   0,  50],\n",
       "       [  0,  45,  55],\n",
       "       [  5,  40,  55],\n",
       "       [ 10,  35,  55],\n",
       "       [ 15,  30,  55],\n",
       "       [ 20,  25,  55],\n",
       "       [ 25,  20,  55],\n",
       "       [ 30,  15,  55],\n",
       "       [ 35,  10,  55],\n",
       "       [ 45,   0,  55],\n",
       "       [  0,  40,  60],\n",
       "       [  5,  35,  60],\n",
       "       [ 10,  30,  60],\n",
       "       [ 15,  25,  60],\n",
       "       [ 20,  20,  60],\n",
       "       [ 25,  15,  60],\n",
       "       [ 30,  10,  60],\n",
       "       [ 35,   5,  60],\n",
       "       [ 40,   0,  60],\n",
       "       [  0,  35,  65],\n",
       "       [  5,  30,  65],\n",
       "       [ 10,  25,  65],\n",
       "       [ 20,  15,  65],\n",
       "       [ 25,  10,  65],\n",
       "       [ 30,   5,  65],\n",
       "       [ 35,   0,  65],\n",
       "       [  0,  30,  70],\n",
       "       [  5,  25,  70],\n",
       "       [ 10,  20,  70],\n",
       "       [ 15,  15,  70],\n",
       "       [ 20,  10,  70],\n",
       "       [ 25,   5,  70],\n",
       "       [ 30,   0,  70],\n",
       "       [  0,  25,  75],\n",
       "       [  5,  20,  75],\n",
       "       [ 10,  15,  75],\n",
       "       [ 15,  10,  75],\n",
       "       [ 20,   5,  75],\n",
       "       [ 25,   0,  75],\n",
       "       [  0,  20,  80],\n",
       "       [  5,  15,  80],\n",
       "       [ 10,  10,  80],\n",
       "       [ 15,   5,  80],\n",
       "       [ 20,   0,  80],\n",
       "       [  0,  15,  85],\n",
       "       [  5,  10,  85],\n",
       "       [ 10,   5,  85],\n",
       "       [ 15,   0,  85],\n",
       "       [  0,  10,  90],\n",
       "       [  5,   5,  90],\n",
       "       [ 10,   0,  90],\n",
       "       [  0,   5,  95],\n",
       "       [  5,   0,  95],\n",
       "       [  0,   0, 100],\n",
       "       [ 30,  55,  15],\n",
       "       [ 40,   5,  55],\n",
       "       [ 15,  20,  65]], dtype=uint8)"
      ]
     },
     "execution_count": 105,
     "metadata": {},
     "output_type": "execute_result"
    }
   ],
   "source": [
    "targets\n",
    "X"
   ]
  },
  {
   "cell_type": "code",
   "execution_count": 79,
   "metadata": {},
   "outputs": [
    {
     "data": {
      "text/html": [
       "<div>\n",
       "<style scoped>\n",
       "    .dataframe tbody tr th:only-of-type {\n",
       "        vertical-align: middle;\n",
       "    }\n",
       "\n",
       "    .dataframe tbody tr th {\n",
       "        vertical-align: top;\n",
       "    }\n",
       "\n",
       "    .dataframe thead th {\n",
       "        text-align: right;\n",
       "    }\n",
       "</style>\n",
       "<table border=\"1\" class=\"dataframe\">\n",
       "  <thead>\n",
       "    <tr style=\"text-align: right;\">\n",
       "      <th></th>\n",
       "      <th>5.1</th>\n",
       "      <th>3.5</th>\n",
       "      <th>1.4</th>\n",
       "      <th>0.2</th>\n",
       "      <th>Iris-setosa</th>\n",
       "    </tr>\n",
       "  </thead>\n",
       "  <tbody>\n",
       "    <tr>\n",
       "      <th>0</th>\n",
       "      <td>4.9</td>\n",
       "      <td>3.0</td>\n",
       "      <td>1.4</td>\n",
       "      <td>0.2</td>\n",
       "      <td>Iris-setosa</td>\n",
       "    </tr>\n",
       "    <tr>\n",
       "      <th>1</th>\n",
       "      <td>4.7</td>\n",
       "      <td>3.2</td>\n",
       "      <td>1.3</td>\n",
       "      <td>0.2</td>\n",
       "      <td>Iris-setosa</td>\n",
       "    </tr>\n",
       "    <tr>\n",
       "      <th>2</th>\n",
       "      <td>4.6</td>\n",
       "      <td>3.1</td>\n",
       "      <td>1.5</td>\n",
       "      <td>0.2</td>\n",
       "      <td>Iris-setosa</td>\n",
       "    </tr>\n",
       "    <tr>\n",
       "      <th>3</th>\n",
       "      <td>5.0</td>\n",
       "      <td>3.6</td>\n",
       "      <td>1.4</td>\n",
       "      <td>0.2</td>\n",
       "      <td>Iris-setosa</td>\n",
       "    </tr>\n",
       "    <tr>\n",
       "      <th>4</th>\n",
       "      <td>5.4</td>\n",
       "      <td>3.9</td>\n",
       "      <td>1.7</td>\n",
       "      <td>0.4</td>\n",
       "      <td>Iris-setosa</td>\n",
       "    </tr>\n",
       "  </tbody>\n",
       "</table>\n",
       "</div>"
      ],
      "text/plain": [
       "   5.1  3.5  1.4  0.2  Iris-setosa\n",
       "0  4.9  3.0  1.4  0.2  Iris-setosa\n",
       "1  4.7  3.2  1.3  0.2  Iris-setosa\n",
       "2  4.6  3.1  1.5  0.2  Iris-setosa\n",
       "3  5.0  3.6  1.4  0.2  Iris-setosa\n",
       "4  5.4  3.9  1.7  0.4  Iris-setosa"
      ]
     },
     "execution_count": 79,
     "metadata": {},
     "output_type": "execute_result"
    }
   ],
   "source": [
    "df = pd.read_csv(\"iris.csv\")\n",
    "df.head()"
   ]
  },
  {
   "cell_type": "code",
   "execution_count": 80,
   "metadata": {},
   "outputs": [],
   "source": [
    "#make a dataframe with only the first 2 and last column\n",
    "df = df.iloc[:, [0,1,4]]"
   ]
  },
  {
   "cell_type": "code",
   "execution_count": 81,
   "metadata": {},
   "outputs": [],
   "source": [
    "# PC = PCA(n_components=2)\n",
    "X = df.iloc[:,0:2].values\n",
    "# remove the first column\n",
    "# X = X[:,1:3]\n",
    "# append the labels to the data\n",
    "X_plot = np.append(X, df.iloc[:,2:3], axis=1)"
   ]
  },
  {
   "cell_type": "code",
   "execution_count": 82,
   "metadata": {},
   "outputs": [
    {
     "data": {
      "text/plain": [
       "(2, 149)"
      ]
     },
     "execution_count": 82,
     "metadata": {},
     "output_type": "execute_result"
    }
   ],
   "source": [
    "X.T.shape"
   ]
  },
  {
   "cell_type": "code",
   "execution_count": 83,
   "metadata": {},
   "outputs": [],
   "source": [
    "#plot the data\n",
    "#map the labels to colors\n",
    "colors = {\"Iris-setosa\": \"red\", \"Iris-versicolor\": \"blue\", \"Iris-virginica\": \"green\"}\n",
    "# plt.scatter(X_plot[:,0], X_plot[:,1], c=[colors[label] for label in X_plot[:,2]])\n",
    "# plt.show()"
   ]
  },
  {
   "cell_type": "code",
   "execution_count": 84,
   "metadata": {},
   "outputs": [],
   "source": [
    "#train the model\n",
    "import torch\n",
    "AA = torchAA(X.T, 3)"
   ]
  },
  {
   "cell_type": "code",
   "execution_count": 85,
   "metadata": {},
   "outputs": [
    {
     "name": "stdout",
     "output_type": "stream",
     "text": [
      "epoch: 275, Loss: 12.028406290885775\r"
     ]
    }
   ],
   "source": [
    "C, S = AA.fit(verbose=True, stopper=EarlyStop(patience=10, offset=-1e-5))"
   ]
  },
  {
   "cell_type": "code",
   "execution_count": 86,
   "metadata": {},
   "outputs": [
    {
     "name": "stdout",
     "output_type": "stream",
     "text": [
      "(149, 3)\n",
      "(3, 149)\n",
      "(149, 2)\n"
     ]
    }
   ],
   "source": [
    "print(C.shape)\n",
    "print(S.shape)\n",
    "print(X.shape)"
   ]
  },
  {
   "cell_type": "code",
   "execution_count": 87,
   "metadata": {},
   "outputs": [],
   "source": [
    "A = np.matmul(X.T, C).T\n",
    "rec = np.matmul(A.T, S)"
   ]
  },
  {
   "cell_type": "code",
   "execution_count": 90,
   "metadata": {},
   "outputs": [
    {
     "data": {
      "image/png": "[encoded data removed]",
      "text/plain": [
       "<Figure size 432x288 with 1 Axes>"
      ]
     },
     "metadata": {
      "needs_background": "light"
     },
     "output_type": "display_data"
    }
   ],
   "source": [
    "#plot the archetypes\n",
    "plt.figure()\n",
    "\n",
    "#matmul the archetypes with the data to get the reconstructed data\n",
    "# A = np.matmul(C, X)\n",
    "# recons = np.matmul(S, A)\n",
    "\n",
    "\n",
    "plt.scatter(X[:,0], X[:,1], c=[colors[label] for label in X_plot[:,2]])\n",
    "\n",
    "\n",
    "for vec in np.matmul(X.T, C).T:\n",
    "    plt.scatter(vec[0], vec[1], c=\"black\")\n",
    "\n",
    "plt.title(\"Archetypes\")\n",
    "plt.show()"
   ]
  },
  {
   "cell_type": "code",
   "execution_count": null,
   "metadata": {},
   "outputs": [],
   "source": []
  }
 ],
 "metadata": {
  "kernelspec": {
   "display_name": "Python 3",
   "language": "python",
   "name": "python3"
  },
  "language_info": {
   "codemirror_mode": {
    "name": "ipython",
    "version": 3
   },
   "file_extension": ".py",
   "mimetype": "text/x-python",
   "name": "python",
   "nbconvert_exporter": "python",
   "pygments_lexer": "ipython3",
   "version": "3.8.6"
  },
  "orig_nbformat": 4
 },
 "nbformat": 4,
 "nbformat_minor": 2
}
