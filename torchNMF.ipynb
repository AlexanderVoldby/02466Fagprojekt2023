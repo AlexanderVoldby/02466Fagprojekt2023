{
 "cells": [
  {
   "attachments": {},
   "cell_type": "markdown",
   "metadata": {},
   "source": [
    "Torch implementation of NMF - When done should be moved to a .py file to allow easy implementation, or alternatively allow saving of model parameters"
   ]
  },
  {
   "cell_type": "code",
   "execution_count": 6,
   "metadata": {},
   "outputs": [],
   "source": [
    "import torch\n",
    "import numpy as np\n",
    "import pandas as pd\n",
    "\n",
    "from helpers.data import X\n",
    "from helpers.callbacks import earlyStop\n",
    "from helpers.losses import frobeniusLoss"
   ]
  },
  {
   "attachments": {},
   "cell_type": "markdown",
   "metadata": {},
   "source": [
    "Non negative matrix factorization works by finding matrices A and B such that X = AB"
   ]
  },
  {
   "cell_type": "code",
   "execution_count": 2,
   "metadata": {},
   "outputs": [],
   "source": [
    "class torchNMF(torch.nn.Module):\n",
    "    def __init__(self, X, rank):\n",
    "        super(torchNMF, self).__init__()\n",
    "        \n",
    "        #Shape of Matrix for reproduction\n",
    "        n_row, n_col = X.shape\n",
    "        self.X = torch.tensor(X)\n",
    "        \n",
    "        self.softplus = torch.nn.Softplus()\n",
    "        \n",
    "        #Initialization of Tensors/Matrices a and b with size NxR and RxM\n",
    "        self.A = torch.nn.Parameter(torch.rand(n_row, rank, requires_grad=True))\n",
    "        self.B = torch.nn.Parameter(torch.rand(rank, n_col, requires_grad=True))\n",
    "        \n",
    "    def forward(self):\n",
    "        \n",
    "        #Implementation of NMF - F(A, B) = ||X - AB||^2\n",
    "        self.AB = torch.matmul(self.softplus(self.A),\n",
    "                               self.softplus(self.B))\n",
    "        x = self.X - self.AB\n",
    "        \n",
    "        return x"
   ]
  },
  {
   "cell_type": "code",
   "execution_count": 18,
   "metadata": {},
   "outputs": [
    {
     "name": "stdout",
     "output_type": "stream",
     "text": [
      "epoch: 546, Loss: 675.40809031690537\r"
     ]
    }
   ],
   "source": [
    "torch.manual_seed(0)\n",
    "\n",
    "nmf = torchNMF(X, 3)\n",
    "\n",
    "#optimizer for modifying learning rate, ADAM chosen because of https://machinelearningmastery.com/adam-optimization-algorithm-for-deep-learning/\n",
    "optimizer = torch.optim.Adam(nmf.parameters(), lr=0.3)\n",
    "\n",
    "#early stopping\n",
    "es = earlyStop(patience=5, offset=-0.1)\n",
    "\n",
    "running_loss = []\n",
    "\n",
    "while (not es.trigger()):\n",
    "    #zero optimizer gradient\n",
    "    optimizer.zero_grad()\n",
    "\n",
    "    #forward\n",
    "    output = nmf()\n",
    "    \n",
    "    #backward\n",
    "    loss = frobeniusLoss()\n",
    "    loss = loss.forward(output)\n",
    "    loss.backward()\n",
    "    \n",
    "    #Update A and B\n",
    "    optimizer.step()\n",
    "    \n",
    "    running_loss.append(loss.item())\n",
    "    es.count(loss.item())\n",
    "    \n",
    "    #print loss\n",
    "    print(f\"epoch: {len(running_loss)}, Loss: {loss.item()}\", end='\\r')"
   ]
  },
  {
   "cell_type": "code",
   "execution_count": 17,
   "metadata": {},
   "outputs": [],
   "source": [
    "A, B = list(nmf.parameters())\n",
    "\n",
    "A = nmf.softplus(A)\n",
    "B = nmf.softplus(B)\n",
    "\n",
    "A = A.detach().numpy()\n",
    "B = B.detach().numpy()\n",
    "\n",
    "rec = np.dot(A, B)\n",
    "\n",
    "rec = rec.T\n",
    "\n",
    "rec_frame = pd.DataFrame(rec)\n",
    "rec_frame.columns = rec_frame.columns.astype(str)\n",
    "\n",
    "\n",
    "rec_frame.to_parquet(\"recons_x_nmf.parquet\",\n",
    "                     engine = 'fastparquet')"
   ]
  },
  {
   "cell_type": "code",
   "execution_count": null,
   "metadata": {},
   "outputs": [],
   "source": []
  },
  {
   "cell_type": "code",
   "execution_count": 12,
   "metadata": {},
   "outputs": [
    {
     "data": {
      "image/png": "[encoded data removed]",
      "text/plain": [
       "<Figure size 432x288 with 1 Axes>"
      ]
     },
     "metadata": {
      "needs_background": "light"
     },
     "output_type": "display_data"
    }
   ],
   "source": [
    "import matplotlib.pyplot as plt\n",
    "\n",
    "plt.plot(rec[0])\n",
    "plt.show()"
   ]
  }
 ],
 "metadata": {
  "kernelspec": {
   "display_name": "Python 3",
   "language": "python",
   "name": "python3"
  },
  "language_info": {
   "codemirror_mode": {
    "name": "ipython",
    "version": 3
   },
   "file_extension": ".py",
   "mimetype": "text/x-python",
   "name": "python",
   "nbconvert_exporter": "python",
   "pygments_lexer": "ipython3",
   "version": "3.8.10"
  },
  "orig_nbformat": 4,
  "vscode": {
   "interpreter": {
    "hash": "a3dcb887a7f93c0b256f7c8ed9d83f8825604366400f976b9e39420250e02c66"
   }
  }
 },
 "nbformat": 4,
 "nbformat_minor": 2
}
