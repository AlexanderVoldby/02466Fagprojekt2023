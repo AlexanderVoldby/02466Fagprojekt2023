{
 "cells": [
  {
   "attachments": {},
   "cell_type": "markdown",
   "metadata": {},
   "source": [
    "Torch implementation of NMF - When done should be moved to a .py file to allow easy implementation"
   ]
  },
  {
   "cell_type": "code",
   "execution_count": 1,
   "metadata": {},
   "outputs": [],
   "source": [
    "import torch"
   ]
  },
  {
   "cell_type": "code",
   "execution_count": null,
   "metadata": {},
   "outputs": [],
   "source": [
    "class torchNMF(torch.nn.Module):\n",
    "    def __init__(self, rank):\n",
    "        super(torchNMF, self).__init__()\n",
    "        A = torch.randn(len(x), rank)\n",
    "        B = torch.randn(rank, len(x))\n",
    "        mm = torch.matmul(A, B)\n",
    "        \n",
    "    def forward():\n",
    "        pass"
   ]
  }
 ],
 "metadata": {
  "kernelspec": {
   "display_name": "Python 3",
   "language": "python",
   "name": "python3"
  },
  "language_info": {
   "codemirror_mode": {
    "name": "ipython",
    "version": 3
   },
   "file_extension": ".py",
   "mimetype": "text/x-python",
   "name": "python",
   "nbconvert_exporter": "python",
   "pygments_lexer": "ipython3",
   "version": "3.8.6"
  },
  "orig_nbformat": 4,
  "vscode": {
   "interpreter": {
    "hash": "b012cf831463c8411566bd9a91d8acbb20d4e2e031e312936b3077b35d5bc46e"
   }
  }
 },
 "nbformat": 4,
 "nbformat_minor": 2
}
