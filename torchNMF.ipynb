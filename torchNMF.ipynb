{
 "cells": [
  {
   "attachments": {},
   "cell_type": "markdown",
   "metadata": {},
   "source": [
    "Torch implementation of NMF - When done should be moved to a .py file to allow easy implementation"
   ]
  },
  {
   "cell_type": "code",
   "execution_count": 104,
   "metadata": {},
   "outputs": [],
   "source": [
    "import torch\n",
    "import numpy as np\n",
    "\n",
    "from data import X"
   ]
  },
  {
   "attachments": {},
   "cell_type": "markdown",
   "metadata": {},
   "source": [
    "Non negative matrix factorization works by finding matrices A and B such that X = AB"
   ]
  },
  {
   "cell_type": "code",
   "execution_count": 138,
   "metadata": {},
   "outputs": [],
   "source": [
    "class torchNMF(torch.nn.Module):\n",
    "    def __init__(self, X, rank):\n",
    "        super(torchNMF, self).__init__()\n",
    "        \n",
    "        #Shape of Matrix for reproduction\n",
    "        n_row, n_col = X.shape\n",
    "        self.X = torch.tensor(X)\n",
    "        \n",
    "        self.softplus = torch.nn.Softplus()\n",
    "        \n",
    "        #Initialization of Tensors/Matrices a and b with size NxR and RxM\n",
    "        self.A = torch.nn.Parameter(torch.rand(n_row, rank, requires_grad=True))\n",
    "        self.A = torch.nn.Parameter(self.softplus(self.A))\n",
    "        \n",
    "        self.B = torch.nn.Parameter(torch.rand(rank, n_col, requires_grad=True))\n",
    "        self.B = torch.nn.Parameter(self.softplus(self.B))\n",
    "        \n",
    "    def forward(self):\n",
    "        \n",
    "        #Implementation of NMF - F(A, B) = ||X - AB||^2\n",
    "        self.AB = torch.matmul(self.A, self.B)\n",
    "        x = self.X - self.AB\n",
    "        \n",
    "        return x"
   ]
  },
  {
   "cell_type": "code",
   "execution_count": 139,
   "metadata": {},
   "outputs": [],
   "source": [
    "#Defining frobenius Loss\n",
    "class frobeniusLoss(torch.nn.Module):\n",
    "    def __init__(self):\n",
    "        super(frobeniusLoss, self).__init__()\n",
    "        self.loss = torch.linalg.matrix_norm\n",
    "    \n",
    "    def forward(self, input):\n",
    "        return self.loss(input, ord='fro')"
   ]
  },
  {
   "cell_type": "code",
   "execution_count": null,
   "metadata": {},
   "outputs": [],
   "source": [
    "nmf = torchNMF(X, 10)\n",
    "\n",
    "batch_size = 10\n",
    "\n",
    "#optimizer for modifying learning rate, ADAM chosen because of https://machinelearningmastery.com/adam-optimization-algorithm-for-deep-learning/\n",
    "optimizer = torch.optim.Adam(nmf.parameters(), lr=0.1)\n",
    "\n",
    "for epoch in range(200):\n",
    "    \n",
    "    #zero optimizer gradient\n",
    "    optimizer.zero_grad()\n",
    "\n",
    "    #forward\n",
    "    output = nmf()\n",
    "    \n",
    "    #backward\n",
    "    loss = frobeniusLoss()\n",
    "    loss = loss.forward(output)\n",
    "    loss.backward()\n",
    "    \n",
    "    #Update A and B\n",
    "    optimizer.step()\n",
    "        \n",
    "    print(loss.item())\n",
    "        "
   ]
  }
 ],
 "metadata": {
  "kernelspec": {
   "display_name": "Python 3",
   "language": "python",
   "name": "python3"
  },
  "language_info": {
   "codemirror_mode": {
    "name": "ipython",
    "version": 3
   },
   "file_extension": ".py",
   "mimetype": "text/x-python",
   "name": "python",
   "nbconvert_exporter": "python",
   "pygments_lexer": "ipython3",
   "version": "3.8.10"
  },
  "orig_nbformat": 4,
  "vscode": {
   "interpreter": {
    "hash": "a3dcb887a7f93c0b256f7c8ed9d83f8825604366400f976b9e39420250e02c66"
   }
  }
 },
 "nbformat": 4,
 "nbformat_minor": 2
}
