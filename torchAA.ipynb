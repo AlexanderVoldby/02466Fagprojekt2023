{
 "cells": [
  {
   "cell_type": "code",
   "execution_count": null,
   "metadata": {},
   "outputs": [],
   "source": [
    "import torch\n",
    "import numpy as np\n",
    "\n",
    "from data import X"
   ]
  },
  {
   "cell_type": "code",
   "execution_count": 63,
   "metadata": {},
   "outputs": [],
   "source": [
    "class torchAA(torch.nn.Module):\n",
    "    def __init__(self, X, rank):\n",
    "        super(torchAA, self).__init__()\n",
    "        \n",
    "        #Shape of Matrix for reproduction\n",
    "        n_row, n_col = X.shape\n",
    "        self.X = torch.tensor(X)\n",
    "        \n",
    "        #softmax layer\n",
    "        self.softmax = torch.nn.Softmax(dim = 0)\n",
    "        \n",
    "        #Initialization of Tensors/Matrices S and C with size Col x Rank and Rank x Col\n",
    "        # NxM (X) * MxD (C) = NxD (XC)\n",
    "        # NxD (XC) * DxM (S) = NxM (XCS)\n",
    "        \n",
    "        self.C = torch.nn.Parameter(torch.rand(n_col, rank, requires_grad=True))\n",
    "        self.S = torch.nn.Parameter(torch.rand(rank, n_col, requires_grad=True))\n",
    "        \n",
    "        \n",
    "    def forward(self):\n",
    "        \n",
    "        #Implementation of AA - F(C, S) = ||X - XCS||^2\n",
    "        \n",
    "        #first matrix Multiplication with softmax\n",
    "        self.XC = torch.matmul(self.X.double(),\n",
    "                               self.softmax(self.C.double()))\n",
    "        \n",
    "        #Second matrix multiplication with softmax\n",
    "        self.XCS = torch.matmul(self.XC.double(),\n",
    "                                self.softmax(self.S.double()))\n",
    "        \n",
    "        x = self.X - self.XCS\n",
    "        \n",
    "        return x"
   ]
  },
  {
   "cell_type": "code",
   "execution_count": 56,
   "metadata": {},
   "outputs": [],
   "source": [
    "#Defining frobenius Loss\n",
    "class frobeniusLoss(torch.nn.Module):\n",
    "    def __init__(self):\n",
    "        super(frobeniusLoss, self).__init__()\n",
    "        self.loss = torch.linalg.matrix_norm\n",
    "    \n",
    "    def forward(self, input):\n",
    "        return self.loss(input, ord='fro')"
   ]
  },
  {
   "cell_type": "code",
   "execution_count": null,
   "metadata": {},
   "outputs": [],
   "source": [
    "nmf = torchAA(X, 10)\n",
    "\n",
    "batch_size = 10\n",
    "\n",
    "#optimizer for modifying learning rate, ADAM chosen because of https://machinelearningmastery.com/adam-optimization-algorithm-for-deep-learning/\n",
    "optimizer = torch.optim.Adam(nmf.parameters(), lr=0.5)\n",
    "\n",
    "for epoch in range(100):\n",
    "    \n",
    "    #zero optimizer gradient\n",
    "    optimizer.zero_grad()\n",
    "\n",
    "    #forward\n",
    "    output = nmf()\n",
    "    \n",
    "    #backward\n",
    "    loss = frobeniusLoss()\n",
    "    loss = loss.forward(output)\n",
    "    loss.backward()\n",
    "    \n",
    "    #Update C and S\n",
    "    optimizer.step()\n",
    "        \n",
    "    print(loss.item())\n"
   ]
  }
 ],
 "metadata": {
  "kernelspec": {
   "display_name": "Python 3",
   "language": "python",
   "name": "python3"
  },
  "language_info": {
   "codemirror_mode": {
    "name": "ipython",
    "version": 3
   },
   "file_extension": ".py",
   "mimetype": "text/x-python",
   "name": "python",
   "nbconvert_exporter": "python",
   "pygments_lexer": "ipython3",
   "version": "3.8.10"
  },
  "orig_nbformat": 4,
  "vscode": {
   "interpreter": {
    "hash": "a3dcb887a7f93c0b256f7c8ed9d83f8825604366400f976b9e39420250e02c66"
   }
  }
 },
 "nbformat": 4,
 "nbformat_minor": 2
}
