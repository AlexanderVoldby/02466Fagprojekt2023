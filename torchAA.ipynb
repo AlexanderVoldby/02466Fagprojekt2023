{
 "cells": [
  {
   "attachments": {},
   "cell_type": "markdown",
   "metadata": {},
   "source": [
    "Torch implementation of AA - When done should be moved to a .py file to allow easy implementation, or alternatively allow saving of model parameters"
   ]
  },
  {
   "cell_type": "code",
   "execution_count": 1,
   "metadata": {},
   "outputs": [
    {
     "name": "stderr",
     "output_type": "stream",
     "text": [
      "C:\\Users\\lucas\\AppData\\Local\\Packages\\PythonSoftwareFoundation.Python.3.8_qbz5n2kfra8p0\\LocalCache\\local-packages\\Python38\\site-packages\\scipy\\__init__.py:146: UserWarning: A NumPy version >=1.16.5 and <1.23.0 is required for this version of SciPy (detected version 1.23.3\n",
      "  warnings.warn(f\"A NumPy version >={np_minversion} and <{np_maxversion}\"\n"
     ]
    }
   ],
   "source": [
    "import torch\n",
    "import numpy as np\n",
    "import pandas as pd\n",
    "\n",
    "from helpers.data import X\n",
    "from helpers.callbacks import earlyStop\n",
    "from helpers.losses import frobeniusLoss\n",
    "from helpers.initializers import FurthestSum, MeanPeaks\n",
    "\n",
    "import matplotlib.pyplot as plt\n",
    "\n"
   ]
  },
  {
   "cell_type": "code",
   "execution_count": 8,
   "metadata": {},
   "outputs": [],
   "source": [
    "class torchAA(torch.nn.Module):\n",
    "    def __init__(self, X, rank, init = \"fs\"):\n",
    "        super(torchAA, self).__init__()\n",
    "        \n",
    "        #Shape of Matrix for reproduction\n",
    "        n_row, n_col = X.shape\n",
    "        self.X = torch.tensor(X)\n",
    "        \n",
    "        #softmax layer\n",
    "        self.softmax = torch.nn.Softmax(dim = 1)\n",
    "        \n",
    "        # Initialization of Tensors/Matrices S and C\n",
    "\n",
    "        # cols = FurthestSum(X, rank, 1)\n",
    "        if (init == \"fs\"):\n",
    "            cols = FurthestSum(X, rank, 0)\n",
    "            self.C_tilde = torch.zeros(n_col, rank)\n",
    "            for i in cols:\n",
    "                self.C_tilde[i] = 1*10**3\n",
    "        else:\n",
    "            cols = MeanPeaks(X, rank)\n",
    "            self.C_tilde = torch.zeros(n_col, rank)\n",
    "            for i in cols:\n",
    "                self.C_tilde[i] = 1*10**3\n",
    "        # C_tilde and S_tilde correspond to the the unconstrained variables of C and S. (variables before softmax)\n",
    "\n",
    "        self.C_tilde = torch.tensor(self.C_tilde, requires_grad=True)\n",
    "        self.C_tilde = torch.nn.Parameter(self.C_tilde)\n",
    "        \n",
    "        # self.C_tilde = torch.nn.Parameter(torch.rand(n_col, rank, requires_grad=True))\n",
    "        self.S_tilde = torch.nn.Parameter(torch.rand(rank, n_col, requires_grad=True))\n",
    "        \n",
    "    def forward(self):\n",
    "        #Implementation of AA - F(C, S) = ||X - XCS||^2\n",
    "        \n",
    "        #first matrix Multiplication with softmax\n",
    "        self.C = self.softmax(self.C_tilde.double())\n",
    "        self.XC = torch.matmul(self.X.double(),self.C)\n",
    "        \n",
    "        self.S = self.softmax(self.S_tilde.double())\n",
    "\n",
    "        self.XCS = torch.matmul(self.XC.double(),self.S)\n",
    "        \n",
    "\n",
    "        x = self.XCS\n",
    "        \n",
    "        return x"
   ]
  },
  {
   "cell_type": "code",
   "execution_count": 9,
   "metadata": {},
   "outputs": [
    {
     "name": "stderr",
     "output_type": "stream",
     "text": [
      "C:\\Users\\lucas\\AppData\\Local\\Temp/ipykernel_10876/890965965.py:27: UserWarning: To copy construct from a tensor, it is recommended to use sourceTensor.clone().detach() or sourceTensor.clone().detach().requires_grad_(True), rather than torch.tensor(sourceTensor).\n",
      "  self.C = torch.tensor(self.C, requires_grad=True)\n"
     ]
    },
    {
     "name": "stdout",
     "output_type": "stream",
     "text": [
      "epoch: 255, Loss: 957.3169265982364\r"
     ]
    },
    {
     "data": {
      "image/png": "[encoded data removed]",
      "text/plain": [
       "<Figure size 432x288 with 1 Axes>"
      ]
     },
     "metadata": {
      "needs_background": "light"
     },
     "output_type": "display_data"
    }
   ],
   "source": [
    "torch.manual_seed(0)\n",
    "\n",
    "aa = torchAA(X, 3, init=\"\")\n",
    "\n",
    "#optimizer for modifying learning rate, ADAM chosen because of https://machinelearningmastery.com/adam-optimization-algorithm-for-deep-learning/\n",
    "optimizer = torch.optim.Adam(aa.parameters(), lr=0.3)\n",
    "\n",
    "#early stopping\n",
    "es = earlyStop(patience=5, offset=-0.1)\n",
    "\n",
    "running_loss = []\n",
    "\n",
    "while (not es.trigger()):\n",
    "    #zero optimizer gradient\n",
    "    optimizer.zero_grad()\n",
    "\n",
    "    #forward\n",
    "    output = aa()\n",
    "    \n",
    "    #backward\n",
    "    loss = frobeniusLoss(X)\n",
    "    loss = loss.forward(output)\n",
    "    loss.backward()\n",
    "    \n",
    "    #Update A and B\n",
    "    optimizer.step()\n",
    "    \n",
    "    #append loss for graphing\n",
    "    running_loss.append(loss.item())\n",
    "    \n",
    "    #count with early stopping\n",
    "    es.count(loss.item())\n",
    "    \n",
    "    #print loss\n",
    "    print(f\"epoch: {len(running_loss)}, Loss: {loss.item()}\", end='\\r')\n",
    "    \n",
    "plt.plot(running_loss)\n",
    "plt.show()"
   ]
  },
  {
   "cell_type": "code",
   "execution_count": 4,
   "metadata": {},
   "outputs": [
    {
     "name": "stdout",
     "output_type": "stream",
     "text": [
      "(29, 3)\n"
     ]
    }
   ],
   "source": [
    "# print(list(aa.parameters())[1].shape)\n",
    "\n",
    "C_tilde, S_tilde = list(aa.parameters())\n",
    "\n",
    "C = aa.softmax(C_tilde)\n",
    "S = aa.softmax(S_tilde)\n",
    "\n",
    "C = C.detach().numpy()\n",
    "S = S.detach().numpy()\n",
    "\n",
    "XC = np.dot(X, C)\n",
    "\n",
    "rec = np.dot(XC, S)\n",
    "\n",
    "rec_frame = pd.DataFrame(rec.T)\n",
    "rec_frame.columns = rec_frame.columns.astype(str)\n",
    "\n",
    "rec_frame.to_parquet(\"recons_x.parquet\",\n",
    "                     engine = 'fastparquet')\n"
   ]
  }
 ],
 "metadata": {
  "kernelspec": {
   "display_name": "Python 3",
   "language": "python",
   "name": "python3"
  },
  "language_info": {
   "codemirror_mode": {
    "name": "ipython",
    "version": 3
   },
   "file_extension": ".py",
   "mimetype": "text/x-python",
   "name": "python",
   "nbconvert_exporter": "python",
   "pygments_lexer": "ipython3",
   "version": "3.8.10"
  },
  "orig_nbformat": 4,
  "vscode": {
   "interpreter": {
    "hash": "a3dcb887a7f93c0b256f7c8ed9d83f8825604366400f976b9e39420250e02c66"
   }
  }
 },
 "nbformat": 4,
 "nbformat_minor": 2
}
