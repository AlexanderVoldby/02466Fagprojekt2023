{
 "cells": [
  {
   "attachments": {},
   "cell_type": "markdown",
   "metadata": {},
   "source": [
    "Torch implementation of AA - When done should be moved to a .py file to allow easy implementation, or alternatively allow saving of model parameters"
   ]
  },
  {
   "cell_type": "code",
   "execution_count": 2,
   "metadata": {},
   "outputs": [],
   "source": [
    "import torch\n",
    "import numpy as np\n",
    "\n",
    "from helpers.data import X\n",
    "from helpers.callbacks import earlyStop\n",
    "from helpers.losses import frobeniusLoss"
   ]
  },
  {
   "cell_type": "code",
   "execution_count": 5,
   "metadata": {},
   "outputs": [],
   "source": [
    "class torchAA(torch.nn.Module):\n",
    "    def __init__(self, X, rank):\n",
    "        super(torchAA, self).__init__()\n",
    "        \n",
    "        #Shape of Matrix for reproduction\n",
    "        n_row, n_col = X.shape\n",
    "        self.X = torch.tensor(X)\n",
    "        \n",
    "        #softmax layer\n",
    "        self.softmax = torch.nn.Softmax(dim = 0)\n",
    "        \n",
    "        #Initialization of Tensors/Matrices S and C with size Col x Rank and Rank x Col\n",
    "        # NxM (X) * MxD (C) = NxD (XC)\n",
    "        # NxD (XC) * DxM (S) = NxM (XCS)\n",
    "        \n",
    "        self.C = torch.nn.Parameter(torch.rand(n_col, rank, requires_grad=True))\n",
    "        self.S = torch.nn.Parameter(torch.rand(rank, n_col, requires_grad=True))\n",
    "        \n",
    "        \n",
    "    def forward(self):\n",
    "        #Implementation of AA - F(C, S) = ||X - XCS||^2\n",
    "        \n",
    "        #first matrix Multiplication with softmax\n",
    "        self.XC = torch.matmul(self.X.double(),\n",
    "                               self.softmax(self.C.double()))\n",
    "        \n",
    "        #Second matrix multiplication with softmax\n",
    "        self.XCS = torch.matmul(self.XC.double(),\n",
    "                                self.softmax(self.S.double()))\n",
    "        \n",
    "        x = self.X - self.XCS\n",
    "        \n",
    "        return x"
   ]
  },
  {
   "cell_type": "code",
   "execution_count": 11,
   "metadata": {},
   "outputs": [
    {
     "name": "stdout",
     "output_type": "stream",
     "text": [
      "epoch: 444, Loss: 1018.0004951166577\r"
     ]
    }
   ],
   "source": [
    "aa = torchAA(X, 10)\n",
    "\n",
    "#optimizer for modifying learning rate, ADAM chosen because of https://machinelearningmastery.com/adam-optimization-algorithm-for-deep-learning/\n",
    "optimizer = torch.optim.Adam(aa.parameters(), lr=0.3)\n",
    "\n",
    "#early stopping\n",
    "es = earlyStop(patience=5, offset=-0.1)\n",
    "\n",
    "running_loss = []\n",
    "\n",
    "while (not es.trigger()):\n",
    "    #zero optimizer gradient\n",
    "    optimizer.zero_grad()\n",
    "\n",
    "    #forward\n",
    "    output = aa()\n",
    "    \n",
    "    #backward\n",
    "    loss = frobeniusLoss()\n",
    "    loss = loss.forward(output)\n",
    "    loss.backward()\n",
    "    \n",
    "    #Update A and B\n",
    "    optimizer.step()\n",
    "    \n",
    "    #append loss for graphing\n",
    "    running_loss.append(loss.item())\n",
    "    \n",
    "    #count with early stopping\n",
    "    es.count(loss.item())\n",
    "    \n",
    "    #print loss\n",
    "    print(f\"epoch: {len(running_loss)}, Loss: {loss.item()}\", end='\\r')"
   ]
  },
  {
   "cell_type": "code",
   "execution_count": 12,
   "metadata": {},
   "outputs": [
    {
     "data": {
      "image/png": "[encoded data removed]",
      "text/plain": [
       "<Figure size 432x288 with 1 Axes>"
      ]
     },
     "metadata": {
      "needs_background": "light"
     },
     "output_type": "display_data"
    }
   ],
   "source": [
    "import matplotlib.pyplot as plt\n",
    "\n",
    "plt.plot(running_loss)\n",
    "plt.show()"
   ]
  }
 ],
 "metadata": {
  "kernelspec": {
   "display_name": "Python 3",
   "language": "python",
   "name": "python3"
  },
  "language_info": {
   "codemirror_mode": {
    "name": "ipython",
    "version": 3
   },
   "file_extension": ".py",
   "mimetype": "text/x-python",
   "name": "python",
   "nbconvert_exporter": "python",
   "pygments_lexer": "ipython3",
   "version": "3.8.10"
  },
  "orig_nbformat": 4,
  "vscode": {
   "interpreter": {
    "hash": "a3dcb887a7f93c0b256f7c8ed9d83f8825604366400f976b9e39420250e02c66"
   }
  }
 },
 "nbformat": 4,
 "nbformat_minor": 2
}
